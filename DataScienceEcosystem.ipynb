{
 "cells": [
  {
   "cell_type": "markdown",
   "id": "cb5c4a86-5401-48e7-ad0c-00ad083db55b",
   "metadata": {},
   "source": [
    "# Data Science Tools and Ecosystem\n"
   ]
  },
  {
   "cell_type": "markdown",
   "id": "3793d97c-a9f0-4aca-9501-6de0319368bc",
   "metadata": {},
   "source": [
    "## In this notebook, Data Science Tools and Ecosystem are summarized"
   ]
  },
  {
   "cell_type": "markdown",
   "id": "6e49e0f0-4dd3-42fa-b1c4-2ebe52717956",
   "metadata": {},
   "source": [
    "**Objectives:**\n",
    "\n",
    "- List popular languages for Data Science.\n",
    "- Introduce arithmetic expression examples in Python.\n",
    "- Perform arithmetic operations using code cells.\n",
    "- Convert minutes to hours using Python expressions.\n",
    "- Understand the basics of Jupyter Notebook usage.\n"
   ]
  },
  {
   "cell_type": "markdown",
   "id": "81679408-f747-411f-98c2-4f9809eabe06",
   "metadata": {
    "tags": []
   },
   "source": [
    "# Some of the popular languages that Data Scientists use are:\n",
    "\n",
    "## 1. Python\n",
    "## 2. R\n",
    "## 3. Julia\n",
    "## 4. SQL\n",
    "## 5. Scala"
   ]
  },
  {
   "cell_type": "markdown",
   "id": "3d5eaabf-6018-4621-b5ff-7fc84465d52e",
   "metadata": {},
   "source": [
    "# Some of the commonly used libraries used by Data Scientists include:\n",
    "1. Pandas\n",
    "2. NumPy\n",
    "3. Matplotlib\n",
    "4. Seaborn\n",
    "5. Scikit-learn"
   ]
  },
  {
   "cell_type": "markdown",
   "id": "afafa401-b94b-4aa5-b7c5-344ad2c0d238",
   "metadata": {},
   "source": [
    "| Data Science Tools |\n",
    "|--------------------|\n",
    "| Jupyter Notebook   |\n",
    "| RStudio            |\n",
    "| Visual Studio Code |\n"
   ]
  },
  {
   "cell_type": "markdown",
   "id": "23ada9d9-6bd8-44c6-aacb-d3c00136e3f5",
   "metadata": {},
   "source": [
    "# Introduction to Arithmetic Expressions\n",
    "\n",
    "### Below are a few examples of evaluating arithmetic expressions in Python\n"
   ]
  },
  {
   "cell_type": "code",
   "execution_count": 12,
   "id": "0461450c-e440-49ff-adc2-a325de8b667d",
   "metadata": {
    "tags": []
   },
   "outputs": [
    {
     "name": "stdout",
     "output_type": "stream",
     "text": [
      "17\n"
     ]
    }
   ],
   "source": [
    "# This is a simple arithmetic expression to multiply then add integers.\n",
    "result = (3 * 4) + 5\n",
    "\n",
    "# Print the result\n",
    "print(result)"
   ]
  },
  {
   "cell_type": "code",
   "execution_count": 13,
   "id": "8680fac1-e413-441e-9983-f26cfe2615df",
   "metadata": {
    "tags": []
   },
   "outputs": [
    {
     "name": "stdout",
     "output_type": "stream",
     "text": [
      "3.3333333333333335\n"
     ]
    }
   ],
   "source": [
    "# This will convert 200 minutes to hours by dividing by 60.\n",
    "minutes = 200\n",
    "hours = minutes / 60\n",
    "\n",
    "# Print the result\n",
    "print(hours)"
   ]
  },
  {
   "cell_type": "markdown",
   "id": "17865b71-722c-459c-8133-3cbe86e9c23a",
   "metadata": {
    "tags": []
   },
   "source": [
    "## Author\n",
    "My name is Soubhagya\n"
   ]
  }
 ],
 "metadata": {
  "kernelspec": {
   "display_name": "Python",
   "language": "python",
   "name": "conda-env-python-py"
  },
  "language_info": {
   "codemirror_mode": {
    "name": "ipython",
    "version": 3
   },
   "file_extension": ".py",
   "mimetype": "text/x-python",
   "name": "python",
   "nbconvert_exporter": "python",
   "pygments_lexer": "ipython3",
   "version": "3.7.12"
  }
 },
 "nbformat": 4,
 "nbformat_minor": 5
}
